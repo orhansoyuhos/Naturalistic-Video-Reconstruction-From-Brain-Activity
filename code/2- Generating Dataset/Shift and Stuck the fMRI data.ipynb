{
 "cells": [
  {
   "cell_type": "code",
   "execution_count": 1,
   "metadata": {},
   "outputs": [],
   "source": [
    "import numpy as np\n",
    "from glob import glob\n",
    "from tqdm import tqdm\n",
    "import os"
   ]
  },
  {
   "cell_type": "code",
   "execution_count": 2,
   "metadata": {},
   "outputs": [],
   "source": [
    "rel_dir = '/home/soyorh/Desktop/studyforrest/Preprocessing steps/'"
   ]
  },
  {
   "cell_type": "code",
   "execution_count": 3,
   "metadata": {},
   "outputs": [],
   "source": [
    "# os.chdir(rel_dir)\n",
    "# !ls"
   ]
  },
  {
   "cell_type": "markdown",
   "metadata": {},
   "source": [
    "## # Functions"
   ]
  },
  {
   "cell_type": "code",
   "execution_count": 4,
   "metadata": {},
   "outputs": [],
   "source": [
    "def get_signals_from_run(sub_id, set_t, roi, run_i, signal_selection):\n",
    "    signals_run_i = np.transpose(np.load(f'{rel_dir}{set_t}_signalsRF/sub-{sub_id}/{roi}/{run_i}_{set_t[:-3]}.npy'))\n",
    "    signals_run_i = signals_run_i[signal_selection,  :]\n",
    "\n",
    "    return signals_run_i"
   ]
  },
  {
   "cell_type": "code",
   "execution_count": 5,
   "metadata": {},
   "outputs": [],
   "source": [
    "# QS: astype('float32') vs astype(np.float32)"
   ]
  },
  {
   "cell_type": "code",
   "execution_count": 6,
   "metadata": {},
   "outputs": [],
   "source": [
    "def save_stacked_signals(sub_id, set_t, roi, time_range=5, shift=4 ):\n",
    "    \n",
    "    '''\n",
    "    \n",
    "    time_range: how many frames you want as input in the time dimension.\n",
    "    shift: how many delays in frames.\n",
    "    \n",
    "    '''\n",
    "    \n",
    "    number_of_run_files = len(glob(f'{rel_dir}{set_t}_videos/{set_t[:-3]}_video_run*'))\n",
    "    signals_list = []\n",
    "\n",
    "    for run_i in tqdm(range(1, number_of_run_files+1)):\n",
    "      \n",
    "        # leftOut_frames = shift + time_range  ('Cause fmri duration == movie duration) already done in target space\n",
    "        seen_img =  np.load(f'{rel_dir}{set_t}_videos/{set_t[:-3]}_video_run{run_i}.npy') #[:-leftOut_frames]\n",
    "        n_frames = seen_img.shape[0]\n",
    "        signal_selection = np.arange(time_range)[np.newaxis, :] + np.arange(shift, shift+n_frames)[:, np.newaxis]\n",
    "        \n",
    "        signals_run_i = get_signals_from_run(sub_id, set_t, roi, run_i, signal_selection)\n",
    "        signals_list.append(signals_run_i)\n",
    "        \n",
    "        print(signals_run_i.shape)\n",
    "\n",
    "    signals = np.concatenate(signals_list).astype('float32')\n",
    "    signals = signals[:, :, :, np.newaxis, np.newaxis].astype(np.float32)\n",
    "    signals.shape   \n",
    "\n",
    "    os.makedirs('shiftedStuck_fMRI', exist_ok=True)\n",
    "    os.makedirs(f'shiftedStuck_fMRI/sub-{sub_id}/{set_t[:-3]}', exist_ok=True)\n",
    "\n",
    "    np.save(f'{rel_dir}shiftedStuck_fMRI/sub-{sub_id}/{set_t[:-3]}/{roi}-shift={shift},time_range={time_range}', signals)"
   ]
  },
  {
   "cell_type": "markdown",
   "metadata": {},
   "source": [
    "## # Saving"
   ]
  },
  {
   "cell_type": "code",
   "execution_count": 7,
   "metadata": {},
   "outputs": [
    {
     "name": "stderr",
     "output_type": "stream",
     "text": [
      " 38%|███▊      | 3/8 [00:00<00:00, 10.59it/s]"
     ]
    },
    {
     "name": "stdout",
     "output_type": "stream",
     "text": [
      "(442, 5, 216)\n",
      "(432, 5, 216)\n",
      "(429, 5, 216)\n"
     ]
    },
    {
     "name": "stderr",
     "output_type": "stream",
     "text": [
      " 62%|██████▎   | 5/8 [00:00<00:00, 11.57it/s]"
     ]
    },
    {
     "name": "stdout",
     "output_type": "stream",
     "text": [
      "(479, 5, 216)\n",
      "(453, 5, 216)\n",
      "(430, 5, 216)\n"
     ]
    },
    {
     "name": "stderr",
     "output_type": "stream",
     "text": [
      "100%|██████████| 8/8 [00:00<00:00, 10.98it/s]"
     ]
    },
    {
     "name": "stdout",
     "output_type": "stream",
     "text": [
      "(534, 5, 216)\n",
      "(328, 5, 216)\n"
     ]
    },
    {
     "name": "stderr",
     "output_type": "stream",
     "text": [
      "\n"
     ]
    }
   ],
   "source": [
    "save_stacked_signals('18', 'testing', 'VIS', time_range=5, shift=4)"
   ]
  },
  {
   "cell_type": "code",
   "execution_count": 8,
   "metadata": {},
   "outputs": [
    {
     "name": "stderr",
     "output_type": "stream",
     "text": [
      " 38%|███▊      | 3/8 [00:00<00:00,  7.93it/s]"
     ]
    },
    {
     "name": "stdout",
     "output_type": "stream",
     "text": [
      "(442, 5, 216)\n",
      "(432, 5, 216)\n",
      "(429, 5, 216)\n"
     ]
    },
    {
     "name": "stderr",
     "output_type": "stream",
     "text": [
      " 62%|██████▎   | 5/8 [00:00<00:00,  9.57it/s]"
     ]
    },
    {
     "name": "stdout",
     "output_type": "stream",
     "text": [
      "(479, 5, 216)\n",
      "(453, 5, 216)\n",
      "(430, 5, 216)\n"
     ]
    },
    {
     "name": "stderr",
     "output_type": "stream",
     "text": [
      "100%|██████████| 8/8 [00:00<00:00,  9.97it/s]"
     ]
    },
    {
     "name": "stdout",
     "output_type": "stream",
     "text": [
      "(534, 5, 216)\n",
      "(328, 5, 216)\n"
     ]
    },
    {
     "name": "stderr",
     "output_type": "stream",
     "text": [
      "\n"
     ]
    }
   ],
   "source": [
    "save_stacked_signals('18', 'training', 'VIS', time_range=5, shift=4)"
   ]
  },
  {
   "cell_type": "markdown",
   "metadata": {},
   "source": [
    "### # check the data"
   ]
  },
  {
   "cell_type": "code",
   "execution_count": 9,
   "metadata": {},
   "outputs": [
    {
     "data": {
      "text/plain": [
       "(3527, 5, 216, 1, 1)"
      ]
     },
     "execution_count": 9,
     "metadata": {},
     "output_type": "execute_result"
    }
   ],
   "source": [
    "sub_id = '18'\n",
    "set_t = 'testing'\n",
    "np.load(f'shiftedStuck_fMRI/sub-{sub_id}/{set_t[:4]}/VIS-shift=4,time_range=5.npy').shape"
   ]
  },
  {
   "cell_type": "code",
   "execution_count": null,
   "metadata": {},
   "outputs": [],
   "source": []
  },
  {
   "cell_type": "code",
   "execution_count": null,
   "metadata": {},
   "outputs": [],
   "source": []
  },
  {
   "cell_type": "code",
   "execution_count": null,
   "metadata": {},
   "outputs": [],
   "source": []
  }
 ],
 "metadata": {
  "kernelspec": {
   "display_name": "Python 3",
   "language": "python",
   "name": "python3"
  },
  "language_info": {
   "codemirror_mode": {
    "name": "ipython",
    "version": 3
   },
   "file_extension": ".py",
   "mimetype": "text/x-python",
   "name": "python",
   "nbconvert_exporter": "python",
   "pygments_lexer": "ipython3",
   "version": "3.8.5"
  }
 },
 "nbformat": 4,
 "nbformat_minor": 4
}
