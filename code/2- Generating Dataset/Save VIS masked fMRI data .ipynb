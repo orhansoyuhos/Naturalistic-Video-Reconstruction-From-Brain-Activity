{
 "cells": [
  {
   "cell_type": "code",
   "execution_count": 1,
   "metadata": {},
   "outputs": [],
   "source": [
    "import numpy as np\n",
    "import os\n",
    "import nibabel as nib\n",
    "from tqdm import tqdm, trange\n",
    "import pickle"
   ]
  },
  {
   "cell_type": "code",
   "execution_count": 2,
   "metadata": {},
   "outputs": [],
   "source": [
    "total_subject = 15\n",
    "subject_ids = ['01', '02', '03', '04', '05', '06', '09', '10', '14', '15', '16', '17', '18', '19', '20']\n",
    "runs = ['1', '2', '3', '4', '5', '6', '7', '8']"
   ]
  },
  {
   "cell_type": "markdown",
   "metadata": {},
   "source": [
    "### # datalad get"
   ]
  },
  {
   "cell_type": "code",
   "execution_count": 20,
   "metadata": {},
   "outputs": [],
   "source": [
    "# os.chdir('/huge/soyorh/studyforrest-data-aligned')\n",
    "\n",
    "# for run in tqdm(runs):\n",
    "#     for subject_id in subject_ids:\n",
    "#         ! datalad get 'sub-{subject_id}/in_bold3Tp2/sub-{subject_id}_task-avmovie_run-{run}_bold.nii.gz'\n",
    "        \n",
    "#         # ! datalad get 'sub-{subject_id}/in_bold3Tp2/sub-{subject_id}_task-aomovie_run-{run}_bold.nii.gz'"
   ]
  },
  {
   "cell_type": "code",
   "execution_count": 22,
   "metadata": {},
   "outputs": [],
   "source": [
    "# ### datalad get all ROIs\n",
    "\n",
    "# os.chdir('/home/soyorh/Desktop/studyforrest/studyforrest-data-visualrois')\n",
    "\n",
    "# for subject_id in tqdm(subject_ids):\n",
    "    \n",
    "#     os.chdir('/home/soyorh/Desktop/studyforrest/studyforrest-data-visualrois/sub-{}/rois/'.format(subject_id))\n",
    "    \n",
    "#     ! datalad get '.'"
   ]
  },
  {
   "cell_type": "markdown",
   "metadata": {},
   "source": [
    "## # Load aligned fMRI data"
   ]
  },
  {
   "cell_type": "code",
   "execution_count": 17,
   "metadata": {},
   "outputs": [
    {
     "name": "stderr",
     "output_type": "stream",
     "text": [
      " 47%|████▋     | 7/15 [01:17<01:27, 10.96s/it]"
     ]
    },
    {
     "name": "stdout",
     "output_type": "stream",
     "text": [
      "There is no aligned BOLD data for subject 10\n",
      "There is no aligned BOLD data for subject 10\n",
      "There is no aligned BOLD data for subject 10\n",
      "There is no aligned BOLD data for subject 10\n",
      "There is no aligned BOLD data for subject 10\n",
      "There is no aligned BOLD data for subject 10\n",
      "There is no aligned BOLD data for subject 10\n",
      "There is no aligned BOLD data for subject 10\n"
     ]
    },
    {
     "name": "stderr",
     "output_type": "stream",
     "text": [
      "100%|██████████| 15/15 [02:33<00:00, 10.23s/it]\n"
     ]
    }
   ],
   "source": [
    "### each fMRI run, per subject (!!! 'avmovie_run' OR 'aomovie_run' )\n",
    "\n",
    "BOLD_perSubject = {}\n",
    "for subject_id in tqdm(subject_ids): \n",
    "    \n",
    "    BOLD_perRun = {}\n",
    "    for run in runs:\n",
    "    \n",
    "        # fMRI movie\n",
    "        os.chdir('/huge/soyorh/studyforrest-data-aligned')\n",
    "        bold_fname = 'sub-{}/in_bold3Tp2/sub-{}_task-avmovie_run-{}_bold.nii.gz'.format(subject_id, subject_id, run)\n",
    "        \n",
    "        # load fMRI data \n",
    "        try:\n",
    "            os.chdir('/huge/soyorh/studyforrest-data-aligned')\n",
    "\n",
    "            BOLD = nib.load(bold_fname).get_fdata()\n",
    "            mask_bool = np.array(VIS_mask, dtype=bool) \n",
    "            BOLD_masked = BOLD[mask_bool, :]\n",
    "\n",
    "        except:\n",
    "            print('There is no aligned BOLD data for subject {}'.format(subject_id))\n",
    "            BOLD_masked = 'There is no aligned BOLD data for subject {}'.format(subject_id)\n",
    "            \n",
    "        BOLD_perRun['{}'.format(run)] = BOLD_masked\n",
    "\n",
    "    BOLD_perSubject['{}'.format(subject_id)] = BOLD_perRun"
   ]
  },
  {
   "cell_type": "markdown",
   "metadata": {},
   "source": [
    "### # Save aligned fMRI data "
   ]
  },
  {
   "cell_type": "code",
   "execution_count": 21,
   "metadata": {},
   "outputs": [],
   "source": [
    "### (!!! BOLD_movie_aligned.pkl OR BOLD_auditoryOnly_aligned.pkl)"
   ]
  },
  {
   "cell_type": "code",
   "execution_count": 16,
   "metadata": {},
   "outputs": [],
   "source": [
    "os.chdir('/home/soyorh/Desktop/studyforrest/Preprocessing steps')\n",
    "\n",
    "a_file = open(\"BOLD_movie_aligned.pkl\", \"wb\")\n",
    "pickle.dump(BOLD_perSubject, a_file)\n",
    "a_file.close()"
   ]
  },
  {
   "cell_type": "code",
   "execution_count": 19,
   "metadata": {},
   "outputs": [],
   "source": [
    "# os.chdir('/home/soyorh/Desktop/studyforrest/Preprocessing steps')\n",
    "\n",
    "# a_file = open(\"BOLD_auditoryOnly_aligned.pkl\", \"wb\")\n",
    "# pickle.dump(BOLD_perSubject, a_file)\n",
    "# a_file.close()"
   ]
  },
  {
   "cell_type": "markdown",
   "metadata": {},
   "source": [
    "## # Load VIS masks"
   ]
  },
  {
   "cell_type": "code",
   "execution_count": 23,
   "metadata": {},
   "outputs": [
    {
     "name": "stderr",
     "output_type": "stream",
     "text": [
      "100%|██████████| 15/15 [00:00<00:00, 121.36it/s]"
     ]
    },
    {
     "name": "stdout",
     "output_type": "stream",
     "text": [
      "There is no VIS_2_mask.nii.gz for subject 01\n",
      "There is no VIS_2_mask.nii.gz for subject 02\n",
      "There is no VIS_1_mask.nii.gz for subject 03\n",
      "There is no VIS_2_mask.nii.gz for subject 03\n",
      "There is no VIS_2_mask.nii.gz for subject 04\n",
      "There is no VIS_1_mask.nii.gz for subject 06\n",
      "There is no VIS_2_mask.nii.gz for subject 06\n",
      "There is no VIS_2_mask.nii.gz for subject 09\n",
      "There is no VIS_2_mask.nii.gz for subject 10\n",
      "There is no VIS_2_mask.nii.gz for subject 16\n",
      "There is no VIS_2_mask.nii.gz for subject 18\n",
      "There is no VIS_2_mask.nii.gz for subject 20\n"
     ]
    },
    {
     "name": "stderr",
     "output_type": "stream",
     "text": [
      "\n"
     ]
    }
   ],
   "source": [
    "### each VIS mask, per subject (= VIS: Early visual cortex) \n",
    "\n",
    "VIS_perSubject = {}\n",
    "for subject_id in tqdm(subject_ids): \n",
    "\n",
    "    # mask VIS\n",
    "    os.chdir('/home/soyorh/Desktop/studyforrest/studyforrest-data-visualrois/sub-{}/rois/'.format(subject_id))\n",
    "\n",
    "    try:\n",
    "        VIS_mask = nib.load('VIS_1_mask.nii.gz').get_fdata()\n",
    "    except:\n",
    "        print('There is no VIS_1_mask.nii.gz for subject {}'.format(subject_id)) \n",
    "        VIS_mask = 'There is no VIS_1_mask.nii.gz for subject {}'.format(subject_id)\n",
    "\n",
    "    try:\n",
    "        VIS_2_mask = nib.load('VIS_2_mask.nii.gz').get_fdata()\n",
    "        VIS_mask += VIS_2_mask\n",
    "    except:\n",
    "        print('There is no VIS_2_mask.nii.gz for subject {}'.format(subject_id))\n",
    "\n",
    "    VIS_perSubject['{}'.format(subject_id)] = VIS_mask"
   ]
  },
  {
   "cell_type": "markdown",
   "metadata": {},
   "source": [
    "### # Save aligned fMRI data "
   ]
  },
  {
   "cell_type": "code",
   "execution_count": 30,
   "metadata": {},
   "outputs": [],
   "source": [
    "os.chdir('/home/soyorh/Desktop/studyforrest/Preprocessing steps')\n",
    "\n",
    "a_file = open(\"VIS_mask_perSubject.pkl\", \"wb\")\n",
    "pickle.dump(VIS_perSubject, a_file)\n",
    "a_file.close()"
   ]
  },
  {
   "cell_type": "markdown",
   "metadata": {},
   "source": [
    "## # Load fMRI data with masked"
   ]
  },
  {
   "cell_type": "code",
   "execution_count": 11,
   "metadata": {
    "scrolled": true
   },
   "outputs": [
    {
     "name": "stderr",
     "output_type": "stream",
     "text": [
      "\r",
      "  0%|          | 0/15 [00:00<?, ?it/s]"
     ]
    },
    {
     "name": "stdout",
     "output_type": "stream",
     "text": [
      "There is no VIS_2_mask.nii.gz for subject 01\n",
      "There is no VIS_2_mask.nii.gz for subject 01\n",
      "There is no VIS_2_mask.nii.gz for subject 01\n",
      "There is no VIS_2_mask.nii.gz for subject 01\n",
      "There is no VIS_2_mask.nii.gz for subject 01\n",
      "There is no VIS_2_mask.nii.gz for subject 01\n",
      "There is no VIS_2_mask.nii.gz for subject 01\n",
      "There is no VIS_2_mask.nii.gz for subject 01\n"
     ]
    },
    {
     "name": "stderr",
     "output_type": "stream",
     "text": [
      "\r",
      "  7%|▋         | 1/15 [00:09<02:17,  9.79s/it]"
     ]
    },
    {
     "name": "stdout",
     "output_type": "stream",
     "text": [
      "There is no VIS_2_mask.nii.gz for subject 02\n",
      "There is no VIS_2_mask.nii.gz for subject 02\n",
      "There is no VIS_2_mask.nii.gz for subject 02\n",
      "There is no VIS_2_mask.nii.gz for subject 02\n",
      "There is no VIS_2_mask.nii.gz for subject 02\n",
      "There is no VIS_2_mask.nii.gz for subject 02\n",
      "There is no VIS_2_mask.nii.gz for subject 02\n",
      "There is no VIS_2_mask.nii.gz for subject 02\n"
     ]
    },
    {
     "name": "stderr",
     "output_type": "stream",
     "text": [
      "\r",
      " 13%|█▎        | 2/15 [00:22<02:32, 11.72s/it]"
     ]
    },
    {
     "name": "stdout",
     "output_type": "stream",
     "text": [
      "There is no VIS_1_mask.nii.gz for subject 03\n",
      "There is no VIS_2_mask.nii.gz for subject 03\n",
      "BOLD data was not saved. There is no VIS mask for subject 03\n",
      "There is no VIS_1_mask.nii.gz for subject 03\n",
      "There is no VIS_2_mask.nii.gz for subject 03\n",
      "BOLD data was not saved. There is no VIS mask for subject 03\n",
      "There is no VIS_1_mask.nii.gz for subject 03\n",
      "There is no VIS_2_mask.nii.gz for subject 03\n",
      "BOLD data was not saved. There is no VIS mask for subject 03\n",
      "There is no VIS_1_mask.nii.gz for subject 03\n",
      "There is no VIS_2_mask.nii.gz for subject 03\n",
      "BOLD data was not saved. There is no VIS mask for subject 03\n",
      "There is no VIS_1_mask.nii.gz for subject 03\n",
      "There is no VIS_2_mask.nii.gz for subject 03\n",
      "BOLD data was not saved. There is no VIS mask for subject 03\n",
      "There is no VIS_1_mask.nii.gz for subject 03\n",
      "There is no VIS_2_mask.nii.gz for subject 03\n",
      "BOLD data was not saved. There is no VIS mask for subject 03\n",
      "There is no VIS_1_mask.nii.gz for subject 03\n",
      "There is no VIS_2_mask.nii.gz for subject 03\n",
      "BOLD data was not saved. There is no VIS mask for subject 03\n",
      "There is no VIS_1_mask.nii.gz for subject 03\n",
      "There is no VIS_2_mask.nii.gz for subject 03\n",
      "BOLD data was not saved. There is no VIS mask for subject 03\n",
      "There is no VIS_2_mask.nii.gz for subject 04\n",
      "There is no VIS_2_mask.nii.gz for subject 04\n",
      "There is no VIS_2_mask.nii.gz for subject 04\n",
      "There is no VIS_2_mask.nii.gz for subject 04\n",
      "There is no VIS_2_mask.nii.gz for subject 04\n",
      "There is no VIS_2_mask.nii.gz for subject 04\n",
      "There is no VIS_2_mask.nii.gz for subject 04\n",
      "There is no VIS_2_mask.nii.gz for subject 04\n"
     ]
    },
    {
     "name": "stderr",
     "output_type": "stream",
     "text": [
      " 33%|███▎      | 5/15 [00:44<01:27,  8.77s/it]"
     ]
    },
    {
     "name": "stdout",
     "output_type": "stream",
     "text": [
      "There is no VIS_1_mask.nii.gz for subject 06\n",
      "There is no VIS_2_mask.nii.gz for subject 06\n",
      "BOLD data was not saved. There is no VIS mask for subject 06\n",
      "There is no VIS_1_mask.nii.gz for subject 06\n",
      "There is no VIS_2_mask.nii.gz for subject 06\n",
      "BOLD data was not saved. There is no VIS mask for subject 06\n",
      "There is no VIS_1_mask.nii.gz for subject 06\n",
      "There is no VIS_2_mask.nii.gz for subject 06\n",
      "BOLD data was not saved. There is no VIS mask for subject 06\n",
      "There is no VIS_1_mask.nii.gz for subject 06\n",
      "There is no VIS_2_mask.nii.gz for subject 06\n",
      "BOLD data was not saved. There is no VIS mask for subject 06\n",
      "There is no VIS_1_mask.nii.gz for subject 06\n",
      "There is no VIS_2_mask.nii.gz for subject 06\n",
      "BOLD data was not saved. There is no VIS mask for subject 06\n",
      "There is no VIS_1_mask.nii.gz for subject 06\n",
      "There is no VIS_2_mask.nii.gz for subject 06\n",
      "BOLD data was not saved. There is no VIS mask for subject 06\n",
      "There is no VIS_1_mask.nii.gz for subject 06\n",
      "There is no VIS_2_mask.nii.gz for subject 06\n",
      "BOLD data was not saved. There is no VIS mask for subject 06\n",
      "There is no VIS_1_mask.nii.gz for subject 06\n",
      "There is no VIS_2_mask.nii.gz for subject 06\n",
      "BOLD data was not saved. There is no VIS mask for subject 06\n",
      "There is no VIS_2_mask.nii.gz for subject 09\n",
      "There is no VIS_2_mask.nii.gz for subject 09\n",
      "There is no VIS_2_mask.nii.gz for subject 09\n",
      "There is no VIS_2_mask.nii.gz for subject 09\n",
      "There is no VIS_2_mask.nii.gz for subject 09\n",
      "There is no VIS_2_mask.nii.gz for subject 09\n",
      "There is no VIS_2_mask.nii.gz for subject 09\n",
      "There is no VIS_2_mask.nii.gz for subject 09\n"
     ]
    },
    {
     "name": "stderr",
     "output_type": "stream",
     "text": [
      "\r",
      " 47%|████▋     | 7/15 [00:57<01:02,  7.79s/it]"
     ]
    },
    {
     "name": "stdout",
     "output_type": "stream",
     "text": [
      "There is no VIS_2_mask.nii.gz for subject 10\n",
      "There is no aligned BOLD data for subject 10\n",
      "There is no VIS_2_mask.nii.gz for subject 10\n",
      "There is no aligned BOLD data for subject 10\n",
      "There is no VIS_2_mask.nii.gz for subject 10\n",
      "There is no aligned BOLD data for subject 10\n",
      "There is no VIS_2_mask.nii.gz for subject 10\n",
      "There is no aligned BOLD data for subject 10\n",
      "There is no VIS_2_mask.nii.gz for subject 10\n",
      "There is no aligned BOLD data for subject 10\n",
      "There is no VIS_2_mask.nii.gz for subject 10\n",
      "There is no aligned BOLD data for subject 10\n",
      "There is no VIS_2_mask.nii.gz for subject 10\n",
      "There is no aligned BOLD data for subject 10\n",
      "There is no VIS_2_mask.nii.gz for subject 10\n",
      "There is no aligned BOLD data for subject 10\n"
     ]
    },
    {
     "name": "stderr",
     "output_type": "stream",
     "text": [
      " 67%|██████▋   | 10/15 [01:19<00:39,  7.81s/it]"
     ]
    },
    {
     "name": "stdout",
     "output_type": "stream",
     "text": [
      "There is no VIS_2_mask.nii.gz for subject 16\n",
      "There is no VIS_2_mask.nii.gz for subject 16\n",
      "There is no VIS_2_mask.nii.gz for subject 16\n",
      "There is no VIS_2_mask.nii.gz for subject 16\n",
      "There is no VIS_2_mask.nii.gz for subject 16\n",
      "There is no VIS_2_mask.nii.gz for subject 16\n",
      "There is no VIS_2_mask.nii.gz for subject 16\n",
      "There is no VIS_2_mask.nii.gz for subject 16\n"
     ]
    },
    {
     "name": "stderr",
     "output_type": "stream",
     "text": [
      " 80%|████████  | 12/15 [01:42<00:28,  9.52s/it]"
     ]
    },
    {
     "name": "stdout",
     "output_type": "stream",
     "text": [
      "There is no VIS_2_mask.nii.gz for subject 18\n",
      "There is no VIS_2_mask.nii.gz for subject 18\n",
      "There is no VIS_2_mask.nii.gz for subject 18\n",
      "There is no VIS_2_mask.nii.gz for subject 18\n",
      "There is no VIS_2_mask.nii.gz for subject 18\n",
      "There is no VIS_2_mask.nii.gz for subject 18\n",
      "There is no VIS_2_mask.nii.gz for subject 18\n",
      "There is no VIS_2_mask.nii.gz for subject 18\n"
     ]
    },
    {
     "name": "stderr",
     "output_type": "stream",
     "text": [
      " 93%|█████████▎| 14/15 [02:08<00:10, 10.89s/it]"
     ]
    },
    {
     "name": "stdout",
     "output_type": "stream",
     "text": [
      "There is no VIS_2_mask.nii.gz for subject 20\n",
      "There is no VIS_2_mask.nii.gz for subject 20\n",
      "There is no VIS_2_mask.nii.gz for subject 20\n",
      "There is no VIS_2_mask.nii.gz for subject 20\n",
      "There is no VIS_2_mask.nii.gz for subject 20\n",
      "There is no VIS_2_mask.nii.gz for subject 20\n",
      "There is no VIS_2_mask.nii.gz for subject 20\n",
      "There is no VIS_2_mask.nii.gz for subject 20\n"
     ]
    },
    {
     "name": "stderr",
     "output_type": "stream",
     "text": [
      "100%|██████████| 15/15 [02:18<00:00,  9.26s/it]\n"
     ]
    }
   ],
   "source": [
    "### each fMRI run, per subject with applied masked (= VIS: Early visual cortex) (!!! 'avmovie_run' OR 'aomovie_run' )\n",
    "\n",
    "BOLD_perSubject = {}\n",
    "for subject_id in tqdm(subject_ids): \n",
    "    \n",
    "    BOLD_perRun = {}\n",
    "    for run in runs:\n",
    "    \n",
    "        # fMRI movie\n",
    "        os.chdir('/huge/soyorh/studyforrest-data-aligned')\n",
    "        bold_fname = 'sub-{}/in_bold3Tp2/sub-{}_task-avmovie_run-{}_bold.nii.gz'.format(subject_id, subject_id, run)\n",
    "        \n",
    "        # mask VIS\n",
    "        os.chdir('/home/soyorh/Desktop/studyforrest/studyforrest-data-visualrois/sub-{}/rois/'.format(subject_id))\n",
    "        \n",
    "        try:\n",
    "            VIS_mask = nib.load('VIS_1_mask.nii.gz').get_fdata()\n",
    "        except:\n",
    "            print('There is no VIS_1_mask.nii.gz for subject {}'.format(subject_id)) \n",
    "        \n",
    "        try:\n",
    "            VIS_2_mask = nib.load('VIS_2_mask.nii.gz').get_fdata()\n",
    "            VIS_mask += VIS_2_mask\n",
    "        except:\n",
    "            print('There is no VIS_2_mask.nii.gz for subject {}'.format(subject_id))\n",
    "        \n",
    "        \n",
    "        # load fMRI data and apply the mask\n",
    "        if os.path.exists('VIS_1_mask.nii.gz'):\n",
    "            try:\n",
    "                os.chdir('/huge/soyorh/studyforrest-data-aligned')\n",
    "\n",
    "                BOLD = nib.load(bold_fname).get_fdata()\n",
    "                mask_bool = np.array(VIS_mask, dtype=bool) \n",
    "                BOLD_masked = BOLD[mask_bool, :]\n",
    "                \n",
    "            except:\n",
    "                print('There is no aligned BOLD data for subject {}'.format(subject_id))\n",
    "                BOLD_masked = 'There is no aligned BOLD data for subject {}'.format(subject_id)\n",
    "            \n",
    "        else:\n",
    "            print('BOLD data was not saved. There is no VIS mask for subject {}'.format(subject_id))        \n",
    "            BOLD_masked = 'BOLD data was not saved. There is no VIS mask for subject {}'.format(subject_id) \n",
    "        \n",
    "        BOLD_perRun['{}'.format(run)] = BOLD_masked\n",
    "\n",
    "    BOLD_perSubject['{}'.format(subject_id)] = BOLD_perRun"
   ]
  },
  {
   "cell_type": "markdown",
   "metadata": {},
   "source": [
    "### # Save VIS masked fMRI data "
   ]
  },
  {
   "cell_type": "code",
   "execution_count": 21,
   "metadata": {},
   "outputs": [],
   "source": [
    "### (!!! BOLD_movie_VISmasked.pkl OR BOLD_auditoryOnly_VISmasked.pkl)"
   ]
  },
  {
   "cell_type": "code",
   "execution_count": 9,
   "metadata": {},
   "outputs": [],
   "source": [
    "os.chdir('/home/soyorh/Desktop/studyforrest/Preprocessing steps')\n",
    "\n",
    "a_file = open(\"BOLD_movie_VISmasked.pkl\", \"wb\")\n",
    "pickle.dump(BOLD_perSubject, a_file)\n",
    "a_file.close()"
   ]
  },
  {
   "cell_type": "code",
   "execution_count": 14,
   "metadata": {},
   "outputs": [],
   "source": [
    "# os.chdir('/home/soyorh/Desktop/studyforrest/Preprocessing steps')\n",
    "\n",
    "# a_file = open(\"BOLD_auditoryOnly_VISmasked.pkl\", \"wb\")\n",
    "# pickle.dump(BOLD_perSubject, a_file)\n",
    "# a_file.close()"
   ]
  },
  {
   "cell_type": "code",
   "execution_count": 31,
   "metadata": {},
   "outputs": [
    {
     "name": "stdout",
     "output_type": "stream",
     "text": [
      " BOLD_auditoryOnly_aligned.pkl\r\n",
      " BOLD_auditoryOnly_VISmasked.pkl\r\n",
      " BOLD_movie_aligned.pkl\r\n",
      " BOLD_movie_VISmasked.pkl\r\n",
      "'Check Saved Files.ipynb'\r\n",
      "'Polar Coordinates (r,θ) to Cartesian Coordinates (x,y).ipynb'\r\n",
      "'Save VIS masked fMRI data .ipynb'\r\n",
      " VIS_mask_perSubject.pkl\r\n",
      " whole_brainfigures\r\n"
     ]
    }
   ],
   "source": [
    "! ls"
   ]
  },
  {
   "cell_type": "code",
   "execution_count": null,
   "metadata": {},
   "outputs": [],
   "source": []
  }
 ],
 "metadata": {
  "kernelspec": {
   "display_name": "Python 3",
   "language": "python",
   "name": "python3"
  },
  "language_info": {
   "codemirror_mode": {
    "name": "ipython",
    "version": 3
   },
   "file_extension": ".py",
   "mimetype": "text/x-python",
   "name": "python",
   "nbconvert_exporter": "python",
   "pygments_lexer": "ipython3",
   "version": "3.8.5"
  }
 },
 "nbformat": 4,
 "nbformat_minor": 2
}
