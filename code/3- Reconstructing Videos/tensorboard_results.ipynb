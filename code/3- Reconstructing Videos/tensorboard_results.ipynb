{
 "cells": [
  {
   "cell_type": "code",
   "execution_count": 3,
   "metadata": {},
   "outputs": [
    {
     "name": "stdout",
     "output_type": "stream",
     "text": [
      "[NbConvertApp] Converting notebook discriminator.ipynb to python\n",
      "[NbConvertApp] Writing 4146 bytes to discriminator.py\n",
      "[NbConvertApp] Converting notebook generator_vgg.ipynb to python\n",
      "[NbConvertApp] Writing 6837 bytes to generator_vgg.py\n",
      "[NbConvertApp] Converting notebook make_video.ipynb to python\n",
      "[NbConvertApp] Writing 8550 bytes to make_video.py\n",
      "[NbConvertApp] Converting notebook modules.ipynb to python\n",
      "[NbConvertApp] Writing 2077 bytes to modules.py\n",
      "[NbConvertApp] Converting notebook tensorboard_results.ipynb to python\n",
      "[NbConvertApp] Writing 484 bytes to tensorboard_results.py\n",
      "[NbConvertApp] Converting notebook train_model.ipynb to python\n",
      "[NbConvertApp] Writing 6821 bytes to train_model.py\n",
      "[NbConvertApp] Converting notebook util.ipynb to python\n",
      "[NbConvertApp] Writing 171 bytes to util.py\n"
     ]
    }
   ],
   "source": [
    "!  jupyter nbconvert --to python *.ipynb"
   ]
  },
  {
   "cell_type": "code",
   "execution_count": 1,
   "metadata": {},
   "outputs": [],
   "source": [
    "# import os\n",
    "# os.getcwd()\n",
    "# os.chdir('/home/soyorh/Desktop')\n",
    "# !ls"
   ]
  },
  {
   "cell_type": "code",
   "execution_count": 3,
   "metadata": {},
   "outputs": [],
   "source": [
    "import os"
   ]
  },
  {
   "cell_type": "code",
   "execution_count": 5,
   "metadata": {},
   "outputs": [
    {
     "data": {
      "text/plain": [
       "'/home/soyorh/Desktop/studyforrest/Brain2Pix steps/Experiment/Fixed_RF'"
      ]
     },
     "execution_count": 5,
     "metadata": {},
     "output_type": "execute_result"
    }
   ],
   "source": [
    "os.getcwd()"
   ]
  },
  {
   "cell_type": "code",
   "execution_count": 1,
   "metadata": {},
   "outputs": [
    {
     "name": "stdout",
     "output_type": "stream",
     "text": [
      "2021-05-05 17:40:14.381534: W tensorflow/stream_executor/platform/default/dso_loader.cc:60] Could not load dynamic library 'libcudart.so.11.0'; dlerror: libcudart.so.11.0: cannot open shared object file: No such file or directory\n",
      "2021-05-05 17:40:14.381580: I tensorflow/stream_executor/cuda/cudart_stub.cc:29] Ignore above cudart dlerror if you do not have a GPU set up on your machine.\n",
      "TensorBoard 2.4.1 at http://131.174.170.18:6030/ (Press CTRL+C to quit)\n",
      "W0505 17:41:03.412276 140306864633600 plugin_event_multiplexer.py:263] Deleting accumulator 'sub18_VIS_Case1_1619740802'\n",
      "^C\n"
     ]
    }
   ],
   "source": [
    "!tensorboard --logdir=./logs --host=131.174.170.18 --port=6030"
   ]
  },
  {
   "cell_type": "code",
   "execution_count": null,
   "metadata": {},
   "outputs": [],
   "source": []
  },
  {
   "cell_type": "code",
   "execution_count": 2,
   "metadata": {},
   "outputs": [
    {
     "name": "stdout",
     "output_type": "stream",
     "text": [
      "2021-04-30 23:28:13.717047: W tensorflow/stream_executor/platform/default/dso_loader.cc:60] Could not load dynamic library 'libcudart.so.11.0'; dlerror: libcudart.so.11.0: cannot open shared object file: No such file or directory\n",
      "2021-04-30 23:28:13.717090: I tensorflow/stream_executor/cuda/cudart_stub.cc:29] Ignore above cudart dlerror if you do not have a GPU set up on your machine.\n",
      "TensorBoard 2.4.1 at http://131.174.170.18:6040/ (Press CTRL+C to quit)\n",
      "^C\n"
     ]
    }
   ],
   "source": [
    "!tensorboard --logdir=./logs_old_30_04_2021 --host=131.174.170.18 --port=6040"
   ]
  },
  {
   "cell_type": "code",
   "execution_count": null,
   "metadata": {},
   "outputs": [],
   "source": []
  }
 ],
 "metadata": {
  "kernelspec": {
   "display_name": "Python 3",
   "language": "python",
   "name": "python3"
  },
  "language_info": {
   "codemirror_mode": {
    "name": "ipython",
    "version": 3
   },
   "file_extension": ".py",
   "mimetype": "text/x-python",
   "name": "python",
   "nbconvert_exporter": "python",
   "pygments_lexer": "ipython3",
   "version": "3.8.5"
  }
 },
 "nbformat": 4,
 "nbformat_minor": 4
}
