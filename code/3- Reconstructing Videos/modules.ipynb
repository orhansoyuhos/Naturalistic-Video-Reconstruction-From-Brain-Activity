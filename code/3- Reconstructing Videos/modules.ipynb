{
 "cells": [
  {
   "cell_type": "code",
   "execution_count": 1,
   "metadata": {},
   "outputs": [],
   "source": [
    "# !  ipython nbconvert --to python *.ipynb"
   ]
  },
  {
   "cell_type": "code",
   "execution_count": null,
   "metadata": {},
   "outputs": [],
   "source": [
    "# modules.make_iterator_preprocessed\n",
    "# modules.get_RFs\n",
    "# modules.get_inputsROI\n",
    "# modules.leclip"
   ]
  },
  {
   "cell_type": "code",
   "execution_count": 1,
   "metadata": {},
   "outputs": [],
   "source": [
    "import numpy as np\n",
    "import mxnet as mx\n",
    "from mxnet import gpu\n",
    "from glob import glob \n",
    "from tqdm import tqdm"
   ]
  },
  {
   "cell_type": "code",
   "execution_count": 4,
   "metadata": {},
   "outputs": [],
   "source": [
    "rel_dir = '/home/soyorh/Desktop/studyforrest/Preprocessing steps'"
   ]
  },
  {
   "cell_type": "code",
   "execution_count": 11,
   "metadata": {},
   "outputs": [],
   "source": [
    "def get_RFs(sub_id, roi, context):\n",
    "    \n",
    "    '''\n",
    "    roi (str): region of interest, one of the following:\n",
    "        - VIS\n",
    "        \n",
    "    this loads the speficied ROI RF locations, to become and the overlapping RFs are divided \n",
    "    '''\n",
    "    \n",
    "    RFlocs = np.load(f'{rel_dir}/RF_locations/sub-{sub_id}/RFlocs_{roi}.npy')\n",
    "\n",
    "    RFlocs_sum = np.sum(RFlocs, axis = 0)\n",
    "    RF_not_null_mask = RFlocs_sum!=0\n",
    "\n",
    "    RFlocs[:, RF_not_null_mask] = RFlocs[:, RF_not_null_mask] / RFlocs_sum[RF_not_null_mask]\n",
    "    RFlocs_overlapped_avg = mx.nd.array(RFlocs).expand_dims(0).expand_dims(0)\n",
    "    \n",
    "    return RFlocs_overlapped_avg.as_in_context(context)"
   ]
  },
  {
   "cell_type": "code",
   "execution_count": null,
   "metadata": {},
   "outputs": [],
   "source": [
    "def get_inputsROI(RF_ROI, RF_overlapped, context):\n",
    "    \n",
    "    channels = mx.nd.multiply(\n",
    "                    RF_overlapped.as_in_context(context),\n",
    "                    RF_ROI.as_in_context(context)\n",
    "                    )\n",
    "    inputs = channels.sum(axis=2)\n",
    "    return inputs"
   ]
  },
  {
   "cell_type": "code",
   "execution_count": 3,
   "metadata": {},
   "outputs": [],
   "source": [
    "def leclip(x_xlip):\n",
    "    x_clip0 = x_xlip - x_xlip.min()\n",
    "    return x_clip0/x_clip0.max()"
   ]
  },
  {
   "cell_type": "code",
   "execution_count": 9,
   "metadata": {},
   "outputs": [],
   "source": [
    "def make_iterator_preprocessed(set_t, sub_id, roi, case, batch_size=16, shuffle=False, synthetic=False, fraction = 1):\n",
    "    \n",
    "    targets = np.load(f'{rel_dir}/Trials/sub-{sub_id}/Case{case}/{set_t[:-3]}_targets_case{case}.npy').transpose((0,3,1,2))\n",
    "    \n",
    "    RFsignals = np.load(f'{rel_dir}/Trials/sub-{sub_id}/Case{case}/{set_t[:-3]}_RFsignals_case{case}.npy')\n",
    "    RFsignals_fraction = RFsignals[0 : int(len(RFsignals) * fraction)]\n",
    "\n",
    "    dataset = mx.gluon.data.ArrayDataset(RFsignals_fraction, targets[0 : int(len(targets) * fraction)])\n",
    "    \n",
    "    return mx.gluon.data.DataLoader(dataset, batch_size=batch_size, shuffle=shuffle)"
   ]
  },
  {
   "cell_type": "code",
   "execution_count": null,
   "metadata": {},
   "outputs": [],
   "source": []
  }
 ],
 "metadata": {
  "kernelspec": {
   "display_name": "Python 3",
   "language": "python",
   "name": "python3"
  },
  "language_info": {
   "codemirror_mode": {
    "name": "ipython",
    "version": 3
   },
   "file_extension": ".py",
   "mimetype": "text/x-python",
   "name": "python",
   "nbconvert_exporter": "python",
   "pygments_lexer": "ipython3",
   "version": "3.8.5"
  }
 },
 "nbformat": 4,
 "nbformat_minor": 4
}
